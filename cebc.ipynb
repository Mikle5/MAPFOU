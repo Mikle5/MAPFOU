{
 "cells": [
  {
   "cell_type": "markdown",
   "metadata": {},
   "source": [
    "# Описание\n",
    "Это ноутбук к первой контрольной точке.\n",
    "В нем содержится код реализации алгоритма CEBC, описанного в статье. Работа с картой во многом наследована от наших лабораторных работ. Мы также использовали функцию prioritized_planning из лабораторной работы по многоагентному планированию, в качестве 'off-the-shelf CMAPF solver', описанного в оригинальной статье.  "
   ]
  },
  {
   "cell_type": "code",
   "execution_count": 1,
   "metadata": {
    "id": "NscWF0QKCYyp"
   },
   "outputs": [],
   "source": [
    "from utils import Map, prioritized_planning, shortest_first, draw,simple_test, convert_string_to_cells, read_lists_from_file, manhattan_distance\n",
    "from collections import deque\n",
    "import numpy as np"
   ]
  },
  {
   "cell_type": "markdown",
   "metadata": {
    "id": "UTa9fcnJCYzM"
   },
   "source": [
    "### MAPFOU\n"
   ]
  },
  {
   "cell_type": "code",
   "execution_count": 2,
   "metadata": {},
   "outputs": [],
   "source": [
    "class SearchNode:\n",
    "    def __init__(self, i,j, is_possible_obstacle=False, is_sense=False):\n",
    "        self.i = i\n",
    "        self.j = j\n",
    "        self.left = None\n",
    "        self.right = None\n",
    "        self.is_sense = is_sense\n",
    "\n",
    "\n",
    "    def __repr__(self):\n",
    "        if self.is_sense:\n",
    "            return \"sense\"\n",
    "        else:\n",
    "            return f\"SearchNode({self.i, self.j})\"\n",
    "def create_branch(pairs):\n",
    "    if not pairs:\n",
    "        return None\n",
    "    root = SearchNode(pairs[0][0], pairs[0][1])\n",
    "    current = root\n",
    "    for i, j in pairs[1:]:\n",
    "        new_node = SearchNode(i, j)\n",
    "        current.right = new_node\n",
    "        current = current.right\n",
    "    return root\n",
    "def AssumeObs(task_map, c, u):\n",
    "    new_map=task_map\n",
    "    for i in u:\n",
    "        new_map._cells[i[0]][i[1]] = 0\n",
    "    for i in c: \n",
    "        new_map._cells[i[0]][i[1]] = 1\n",
    "    return new_map"
   ]
  },
  {
   "cell_type": "markdown",
   "metadata": {},
   "source": [
    "## Псевдокод алгоритма\n",
    "<img src='data/cebc_pseudocode.png' width=540, heigth=240>"
   ]
  },
  {
   "cell_type": "code",
   "execution_count": 3,
   "metadata": {},
   "outputs": [],
   "source": [
    "def CEBC(graph, s, t, c, u):\n",
    "    new_graph = AssumeObs(graph, c, u)\n",
    "    plan = prioritized_planning(new_graph, s, t,20000, manhattan_distance, shortest_first)[1]\n",
    "    branches = [create_branch(path) for path in plan]\n",
    "    queue = deque(branches)\n",
    "    new_starts = []\n",
    "    previous_level_coords = [(k.i, k.j) for k in branches]\n",
    "    while queue:\n",
    "        next_level = deque()\n",
    "        current_level_coords = []\n",
    "        obstacle_found = False\n",
    "\n",
    "        for node in queue:\n",
    "            if node is not None:\n",
    "                current_level_coords.append((node.i, node.j))\n",
    "                if (node.i, node.j) in u:\n",
    "                    obstacle_found = True\n",
    "                    obstacle_coords = (node.i, node.j)\n",
    "                if node.right:\n",
    "                    next_level.append(node.right)\n",
    "\n",
    "        if obstacle_found:\n",
    "            new_starts = previous_level_coords\n",
    "        previous_level_coords = current_level_coords\n",
    "        queue = next_level\n",
    "        if obstacle_found:\n",
    "            new_u = u.copy()\n",
    "            new_c = c.copy()\n",
    "            new_u.remove(obstacle_coords)\n",
    "            new_c.add(obstacle_coords)\n",
    "            subtrees_set = CEBC(graph, new_starts,t,new_c,new_u)\n",
    "            counter=0\n",
    "            for n in branches:\n",
    "                if (n.i, n.j) == (subtrees_set[counter].i, subtrees_set[counter].j):\n",
    "                    buf = n.right\n",
    "                    sense = SearchNode(n.i,n.j, is_sense=True)\n",
    "                    n.right = sense\n",
    "                    sense.right = buf\n",
    "                    sense.left = subtrees_set[counter].right\n",
    "                else:    \n",
    "                    while n.right:\n",
    "                        if (n.i, n.j) == (subtrees_set[counter].i, subtrees_set[counter].j):\n",
    "                            buf = n.right\n",
    "                            sense = SearchNode(n.i,n.j, is_sense=True)\n",
    "                            n.right = sense\n",
    "                            sense.right = buf\n",
    "                            try:\n",
    "                                sense.left = subtrees_set[counter].right\n",
    "                            except:\n",
    "                                sense.left = subtrees_set[counter]\n",
    "                            break\n",
    "                        else: \n",
    "                            n = n.right\n",
    "                counter+=1\n",
    "            u.remove(obstacle_coords)\n",
    "    return branches"
   ]
  },
  {
   "cell_type": "markdown",
   "metadata": {},
   "source": [
    "## Визуализация и тесты\n",
    "\n",
    "Карту пока что задаём непосредственно в самой ячейке запуска, это позволяет упростить изучение различных сценариев. "
   ]
  },
  {
   "cell_type": "code",
   "execution_count": 4,
   "metadata": {},
   "outputs": [],
   "source": [
    "def print_tree(node=None, prefix=\"\", children_prefix=\"\"):\n",
    "    if node is None:\n",
    "        print('no root passed')\n",
    "    node_repr = \"sense\" if node.is_sense else str((node.i, node.j))\n",
    "    print(prefix + node_repr)\n",
    "    if node.right:\n",
    "        print_tree(node.right, children_prefix + \"├── \", children_prefix + \"│   \")\n",
    "    if node.left:\n",
    "        print_tree(node.left, children_prefix + \"└── \", children_prefix + \"    \")"
   ]
  },
  {
   "cell_type": "code",
   "execution_count": 5,
   "metadata": {
    "scrolled": false
   },
   "outputs": [
    {
     "name": "stdout",
     "output_type": "stream",
     "text": [
      "Tree for agent 1:\n",
      "(4, 4)\n",
      "├── sense\n",
      "│   ├── (3, 4)\n",
      "│   │   ├── (3, 3)\n",
      "│   │   │   ├── (2, 3)\n",
      "│   │   │   │   ├── sense\n",
      "│   │   │   │   │   ├── (2, 2)\n",
      "│   │   │   │   │   │   ├── (1, 2)\n",
      "│   │   │   │   │   │   │   ├── (1, 1)\n",
      "│   │   │   │   │   └── (1, 3)\n",
      "│   │   │   │   │       ├── (0, 3)\n",
      "│   │   │   │   │       │   ├── (0, 2)\n",
      "│   │   │   │   │       │   │   ├── (0, 1)\n",
      "│   │   │   │   │       │   │   │   ├── (1, 1)\n",
      "│   └── (4, 3)\n",
      "│       ├── sense\n",
      "│       │   ├── (4, 2)\n",
      "│       │   │   ├── (4, 1)\n",
      "│       │   │   │   ├── (3, 1)\n",
      "│       │   │   │   │   ├── (3, 0)\n",
      "│       │   │   │   │   │   ├── (2, 0)\n",
      "│       │   │   │   │   │   │   ├── (1, 0)\n",
      "│       │   │   │   │   │   │   │   ├── (1, 1)\n",
      "│       │   └── (3, 3)\n",
      "│       │       ├── (3, 2)\n",
      "│       │       │   ├── (3, 1)\n",
      "│       │       │   │   ├── (3, 0)\n",
      "│       │       │   │   │   ├── (2, 0)\n",
      "│       │       │   │   │   │   ├── (1, 0)\n",
      "│       │       │   │   │   │   │   ├── (1, 1)\n",
      "\n",
      "Tree for agent 2:\n",
      "(1, 1)\n",
      "├── sense\n",
      "│   ├── (1, 2)\n",
      "│   │   ├── (1, 3)\n",
      "│   │   │   ├── (1, 4)\n",
      "│   │   │   │   ├── sense\n",
      "│   │   │   │   │   ├── (2, 4)\n",
      "│   │   │   │   │   │   ├── (3, 4)\n",
      "│   │   │   │   │   │   │   ├── (4, 4)\n",
      "│   │   │   │   │   └── (2, 4)\n",
      "│   │   │   │   │       ├── (3, 4)\n",
      "│   │   │   │   │       │   ├── (4, 4)\n",
      "│   └── (0, 1)\n",
      "│       ├── sense\n",
      "│       │   ├── (0, 2)\n",
      "│       │   │   ├── (0, 3)\n",
      "│       │   │   │   ├── (0, 4)\n",
      "│       │   │   │   │   ├── (1, 4)\n",
      "│       │   │   │   │   │   ├── (2, 4)\n",
      "│       │   │   │   │   │   │   ├── (3, 4)\n",
      "│       │   │   │   │   │   │   │   ├── (4, 4)\n",
      "│       │   └── (0, 2)\n",
      "│       │       ├── (0, 3)\n",
      "│       │       │   ├── (0, 4)\n",
      "│       │       │   │   ├── (1, 4)\n",
      "│       │       │   │   │   ├── (2, 4)\n",
      "│       │       │   │   │   │   ├── (3, 4)\n",
      "│       │       │   │   │   │   │   ├── (4, 4)\n",
      "\n"
     ]
    }
   ],
   "source": [
    "map_str ='''\n",
    ". . . . . \n",
    ". . P . . \n",
    ". # P . . \n",
    ". . . . .\n",
    ". . P . .\n",
    "\n",
    "'''\n",
    "\n",
    "cells = convert_string_to_cells(map_str)\n",
    "task_map = Map(cells)\n",
    "all_starts = read_lists_from_file(\"data/mapf_st_starts.txt\")\n",
    "all_goals = read_lists_from_file(\"data/mapf_st_goals.txt\")\n",
    "u = set([tuple(pos) for pos in np.argwhere(task_map._cells == 2)])\n",
    "c = set([tuple(pos) for pos in np.argwhere(task_map._cells == 1)])\n",
    "starts = all_starts[0]\n",
    "goals = all_goals[0]\n",
    "trees = CEBC(task_map, starts, goals, set([]), u)\n",
    "\n",
    "# Вывод структуры каждого дерева\n",
    "for i, tree in enumerate(trees):\n",
    "    print(f\"Tree for agent {i+1}:\")\n",
    "    print_tree(tree)\n",
    "    print()"
   ]
  },
  {
   "cell_type": "markdown",
   "metadata": {},
   "source": [
    "## Драфт динамической визуализации\n",
    "\n",
    "Примерно так планируется визуализировать пути агентов в динамике, однако на данный момент эта визуализация еще не готова"
   ]
  },
  {
   "cell_type": "code",
   "execution_count": 6,
   "metadata": {
    "colab": {
     "base_uri": "https://localhost:8080/",
     "height": 523
    },
    "executionInfo": {
     "elapsed": 7014,
     "status": "ok",
     "timestamp": 1712442551674,
     "user": {
      "displayName": "Julia Bel",
      "userId": "09344534935963523050"
     },
     "user_tz": -180
    },
    "id": "upOGxkDYCYzM",
    "outputId": "28808592-217c-49a5-ed3c-e1d53689e7b1",
    "tags": []
   },
   "outputs": [
    {
     "name": "stdout",
     "output_type": "stream",
     "text": [
      "Path found! Steps: 26. Makespan: 6. Flowtime: 12. Correct: True\n"
     ]
    },
    {
     "data": {
      "image/png": "[encoded data removed]",
      "text/plain": [
       "<IPython.core.display.Image object>"
      ]
     },
     "metadata": {},
     "output_type": "display_data"
    },
    {
     "name": "stdout",
     "output_type": "stream",
     "text": [
      "[[(4, 4), (3, 4), (2, 4), (1, 4), (1, 3), (1, 2), (1, 1)], [(1, 1), (1, 2), (1, 3), (2, 3), (3, 3), (3, 4), (4, 4)]]\n"
     ]
    }
   ],
   "source": [
    "simple_test(prioritized_planning, 0, 50000, manhattan_distance, shortest_first)"
   ]
  }
 ],
 "metadata": {
  "colab": {
   "provenance": []
  },
  "kernelspec": {
   "display_name": "Python 3 (ipykernel)",
   "language": "python",
   "name": "python3"
  },
  "language_info": {
   "codemirror_mode": {
    "name": "ipython",
    "version": 3
   },
   "file_extension": ".py",
   "mimetype": "text/x-python",
   "name": "python",
   "nbconvert_exporter": "python",
   "pygments_lexer": "ipython3",
   "version": "3.10.13"
  },
  "widgets": {
   "application/vnd.jupyter.widget-state+json": {
    "1e739fd0cb014681bad22f219f845901": {
     "model_module": "@jupyter-widgets/controls",
     "model_module_version": "1.5.0",
     "model_name": "ProgressStyleModel",
     "state": {
      "_model_module": "@jupyter-widgets/controls",
      "_model_module_version": "1.5.0",
      "_model_name": "ProgressStyleModel",
      "_view_count": null,
      "_view_module": "@jupyter-widgets/base",
      "_view_module_version": "1.2.0",
      "_view_name": "StyleView",
      "bar_color": null,
      "description_width": ""
     }
    },
    "468727c65c52466ca0aa24475ab61f64": {
     "model_module": "@jupyter-widgets/base",
     "model_module_version": "1.2.0",
     "model_name": "LayoutModel",
     "state": {
      "_model_module": "@jupyter-widgets/base",
      "_model_module_version": "1.2.0",
      "_model_name": "LayoutModel",
      "_view_count": null,
      "_view_module": "@jupyter-widgets/base",
      "_view_module_version": "1.2.0",
      "_view_name": "LayoutView",
      "align_content": null,
      "align_items": null,
      "align_self": null,
      "border": null,
      "bottom": null,
      "display": null,
      "flex": null,
      "flex_flow": null,
      "grid_area": null,
      "grid_auto_columns": null,
      "grid_auto_flow": null,
      "grid_auto_rows": null,
      "grid_column": null,
      "grid_gap": null,
      "grid_row": null,
      "grid_template_areas": null,
      "grid_template_columns": null,
      "grid_template_rows": null,
      "height": null,
      "justify_content": null,
      "justify_items": null,
      "left": null,
      "margin": null,
      "max_height": null,
      "max_width": null,
      "min_height": null,
      "min_width": null,
      "object_fit": null,
      "object_position": null,
      "order": null,
      "overflow": null,
      "overflow_x": null,
      "overflow_y": null,
      "padding": null,
      "right": null,
      "top": null,
      "visibility": null,
      "width": null
     }
    },
    "503d953e96ad4708959a0f5d5d874b27": {
     "model_module": "@jupyter-widgets/controls",
     "model_module_version": "1.5.0",
     "model_name": "IntProgressModel",
     "state": {
      "_dom_classes": [],
      "_model_module": "@jupyter-widgets/controls",
      "_model_module_version": "1.5.0",
      "_model_name": "IntProgressModel",
      "_view_count": null,
      "_view_module": "@jupyter-widgets/controls",
      "_view_module_version": "1.5.0",
      "_view_name": "ProgressView",
      "bar_style": "success",
      "description": "",
      "description_tooltip": null,
      "layout": "IPY_MODEL_468727c65c52466ca0aa24475ab61f64",
      "max": 30,
      "min": 0,
      "orientation": "horizontal",
      "style": "IPY_MODEL_1e739fd0cb014681bad22f219f845901",
      "value": 0
     }
    },
    "5bfe518270f94fd9bb7c96cc66431569": {
     "model_module": "@jupyter-widgets/controls",
     "model_module_version": "1.5.0",
     "model_name": "ProgressStyleModel",
     "state": {
      "_model_module": "@jupyter-widgets/controls",
      "_model_module_version": "1.5.0",
      "_model_name": "ProgressStyleModel",
      "_view_count": null,
      "_view_module": "@jupyter-widgets/base",
      "_view_module_version": "1.2.0",
      "_view_name": "StyleView",
      "bar_color": null,
      "description_width": ""
     }
    },
    "9ed105b55445481b9337639193b543bc": {
     "model_module": "@jupyter-widgets/controls",
     "model_module_version": "1.5.0",
     "model_name": "ProgressStyleModel",
     "state": {
      "_model_module": "@jupyter-widgets/controls",
      "_model_module_version": "1.5.0",
      "_model_name": "ProgressStyleModel",
      "_view_count": null,
      "_view_module": "@jupyter-widgets/base",
      "_view_module_version": "1.2.0",
      "_view_name": "StyleView",
      "bar_color": null,
      "description_width": ""
     }
    },
    "b35a119b8c7f43d3bc0eea3555e13a6b": {
     "model_module": "@jupyter-widgets/base",
     "model_module_version": "1.2.0",
     "model_name": "LayoutModel",
     "state": {
      "_model_module": "@jupyter-widgets/base",
      "_model_module_version": "1.2.0",
      "_model_name": "LayoutModel",
      "_view_count": null,
      "_view_module": "@jupyter-widgets/base",
      "_view_module_version": "1.2.0",
      "_view_name": "LayoutView",
      "align_content": null,
      "align_items": null,
      "align_self": null,
      "border": null,
      "bottom": null,
      "display": null,
      "flex": null,
      "flex_flow": null,
      "grid_area": null,
      "grid_auto_columns": null,
      "grid_auto_flow": null,
      "grid_auto_rows": null,
      "grid_column": null,
      "grid_gap": null,
      "grid_row": null,
      "grid_template_areas": null,
      "grid_template_columns": null,
      "grid_template_rows": null,
      "height": null,
      "justify_content": null,
      "justify_items": null,
      "left": null,
      "margin": null,
      "max_height": null,
      "max_width": null,
      "min_height": null,
      "min_width": null,
      "object_fit": null,
      "object_position": null,
      "order": null,
      "overflow": null,
      "overflow_x": null,
      "overflow_y": null,
      "padding": null,
      "right": null,
      "top": null,
      "visibility": null,
      "width": null
     }
    },
    "d076d60fa88f42c89614e9ba38f09217": {
     "model_module": "@jupyter-widgets/controls",
     "model_module_version": "1.5.0",
     "model_name": "IntProgressModel",
     "state": {
      "_dom_classes": [],
      "_model_module": "@jupyter-widgets/controls",
      "_model_module_version": "1.5.0",
      "_model_name": "IntProgressModel",
      "_view_count": null,
      "_view_module": "@jupyter-widgets/controls",
      "_view_module_version": "1.5.0",
      "_view_name": "ProgressView",
      "bar_style": "success",
      "description": "",
      "description_tooltip": null,
      "layout": "IPY_MODEL_f2f9fe2d7a90436f84580a985a829bc9",
      "max": 30,
      "min": 0,
      "orientation": "horizontal",
      "style": "IPY_MODEL_5bfe518270f94fd9bb7c96cc66431569",
      "value": 0
     }
    },
    "d9cde1821b1c409186569ae400e2944b": {
     "model_module": "@jupyter-widgets/controls",
     "model_module_version": "1.5.0",
     "model_name": "IntProgressModel",
     "state": {
      "_dom_classes": [],
      "_model_module": "@jupyter-widgets/controls",
      "_model_module_version": "1.5.0",
      "_model_name": "IntProgressModel",
      "_view_count": null,
      "_view_module": "@jupyter-widgets/controls",
      "_view_module_version": "1.5.0",
      "_view_name": "ProgressView",
      "bar_style": "success",
      "description": "13/30",
      "description_tooltip": null,
      "layout": "IPY_MODEL_b35a119b8c7f43d3bc0eea3555e13a6b",
      "max": 30,
      "min": 0,
      "orientation": "horizontal",
      "style": "IPY_MODEL_9ed105b55445481b9337639193b543bc",
      "value": 13
     }
    },
    "f2f9fe2d7a90436f84580a985a829bc9": {
     "model_module": "@jupyter-widgets/base",
     "model_module_version": "1.2.0",
     "model_name": "LayoutModel",
     "state": {
      "_model_module": "@jupyter-widgets/base",
      "_model_module_version": "1.2.0",
      "_model_name": "LayoutModel",
      "_view_count": null,
      "_view_module": "@jupyter-widgets/base",
      "_view_module_version": "1.2.0",
      "_view_name": "LayoutView",
      "align_content": null,
      "align_items": null,
      "align_self": null,
      "border": null,
      "bottom": null,
      "display": null,
      "flex": null,
      "flex_flow": null,
      "grid_area": null,
      "grid_auto_columns": null,
      "grid_auto_flow": null,
      "grid_auto_rows": null,
      "grid_column": null,
      "grid_gap": null,
      "grid_row": null,
      "grid_template_areas": null,
      "grid_template_columns": null,
      "grid_template_rows": null,
      "height": null,
      "justify_content": null,
      "justify_items": null,
      "left": null,
      "margin": null,
      "max_height": null,
      "max_width": null,
      "min_height": null,
      "min_width": null,
      "object_fit": null,
      "object_position": null,
      "order": null,
      "overflow": null,
      "overflow_x": null,
      "overflow_y": null,
      "padding": null,
      "right": null,
      "top": null,
      "visibility": null,
      "width": null
     }
    }
   }
  }
 },
 "nbformat": 4,
 "nbformat_minor": 1
}
