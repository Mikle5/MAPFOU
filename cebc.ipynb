{
  "cells": [
    {
      "cell_type": "markdown",
      "metadata": {
        "id": "ZRytvUOv9BZ4"
      },
      "source": [
        "# Описание\n",
        "Это ноутбук к первой контрольной точке.\n",
        "В нем содержится код реализации алгоритма CEBC, описанного в статье. Работа с картой во многом наследована от наших лабораторных работ. Мы также использовали функцию prioritized_planning из лабораторной работы по многоагентному планированию, в качестве 'off-the-shelf CMAPF solver', описанного в оригинальной статье.  "
      ]
    },
    {
      "cell_type": "code",
      "source": [
        "from google.colab import drive\n",
        "drive.mount('/content/drive')"
      ],
      "metadata": {
        "colab": {
          "base_uri": "https://localhost:8080/"
        },
        "id": "a74UE8Cxe9l4",
        "outputId": "a0417227-c719-483c-a955-3b10d45bb6e2"
      },
      "execution_count": 73,
      "outputs": [
        {
          "output_type": "stream",
          "name": "stdout",
          "text": [
            "Drive already mounted at /content/drive; to attempt to forcibly remount, call drive.mount(\"/content/drive\", force_remount=True).\n"
          ]
        }
      ]
    },
    {
      "cell_type": "code",
      "source": [
        "import os\n",
        "os.chdir(\"/content/drive/MyDrive/MIPT/Heuristics/MAPFOU\")"
      ],
      "metadata": {
        "id": "BL3-SyB2hMlE"
      },
      "execution_count": 74,
      "outputs": []
    },
    {
      "cell_type": "code",
      "execution_count": 75,
      "metadata": {
        "id": "NscWF0QKCYyp"
      },
      "outputs": [],
      "source": [
        "from utils import Map, prioritized_planning, shortest_first, draw,simple_test, convert_string_to_cells, read_lists_from_file, manhattan_distance, check_paths\n",
        "from collections import deque\n",
        "import numpy as np"
      ]
    },
    {
      "cell_type": "markdown",
      "metadata": {
        "id": "UTa9fcnJCYzM"
      },
      "source": [
        "### MAPFOU\n"
      ]
    },
    {
      "cell_type": "code",
      "execution_count": 76,
      "metadata": {
        "id": "Qk9Wg7cJ9BZ7"
      },
      "outputs": [],
      "source": [
        "class SearchNode:\n",
        "    def __init__(self, i,j, is_possible_obstacle=False, is_sense=False):\n",
        "        self.i = i\n",
        "        self.j = j\n",
        "        self.left = None\n",
        "        self.right = None\n",
        "        self.is_sense = is_sense\n",
        "\n",
        "\n",
        "    def __repr__(self):\n",
        "        if self.is_sense:\n",
        "            return \"sense\"\n",
        "        else:\n",
        "            return f\"SearchNode({self.i, self.j})\"\n",
        "def create_branch(pairs):\n",
        "    if not pairs:\n",
        "        return None\n",
        "    root = SearchNode(pairs[0][0], pairs[0][1])\n",
        "    current = root\n",
        "    for i, j in pairs[1:]:\n",
        "        new_node = SearchNode(i, j)\n",
        "        current.right = new_node\n",
        "        current = current.right\n",
        "    return root\n",
        "def AssumeObs(task_map, c, u):\n",
        "    new_map=task_map\n",
        "    for i in u:\n",
        "        new_map._cells[i[0]][i[1]] = 0\n",
        "    for i in c:\n",
        "        new_map._cells[i[0]][i[1]] = 1\n",
        "    return new_map"
      ]
    },
    {
      "cell_type": "markdown",
      "metadata": {
        "id": "gxIrt0LO9BZ7"
      },
      "source": [
        "## Псевдокод алгоритма\n",
        "<img src='data/cebc_pseudocode.png' width=540, heigth=240>"
      ]
    },
    {
      "cell_type": "code",
      "execution_count": 77,
      "metadata": {
        "id": "Q03bqg8K9BZ7"
      },
      "outputs": [],
      "source": [
        "def CEBC(graph, s, t, c, u):\n",
        "    new_graph = AssumeObs(graph, c, u)\n",
        "    plan = prioritized_planning(new_graph, s, t,5000, manhattan_distance, shortest_first)[1]\n",
        "    branches = [create_branch(path) for path in plan]\n",
        "    queue = deque(branches)\n",
        "    new_starts = []\n",
        "    previous_level_coords = [(k.i, k.j) for k in branches]\n",
        "    while queue:\n",
        "        next_level = deque()\n",
        "        current_level_coords = []\n",
        "        obstacle_found = False\n",
        "\n",
        "        for node in queue:\n",
        "            if node is not None:\n",
        "                current_level_coords.append((node.i, node.j))\n",
        "                if (node.i, node.j) in u:\n",
        "                    obstacle_found = True\n",
        "                    obstacle_coords = (node.i, node.j)\n",
        "                if node.right:\n",
        "                    next_level.append(node.right)\n",
        "\n",
        "        if obstacle_found:\n",
        "            new_starts = previous_level_coords\n",
        "        previous_level_coords = current_level_coords\n",
        "        queue = next_level\n",
        "        if obstacle_found:\n",
        "            new_u = u.copy()\n",
        "            new_c = c.copy()\n",
        "            new_u.remove(obstacle_coords)\n",
        "            new_c.add(obstacle_coords)\n",
        "            subtrees_set = CEBC(graph, new_starts,t,new_c,new_u)\n",
        "            counter=0\n",
        "            for n in branches:\n",
        "                if (n.i, n.j) == (subtrees_set[counter].i, subtrees_set[counter].j):\n",
        "                    buf = n.right\n",
        "                    sense = SearchNode(n.i,n.j, is_sense=True)\n",
        "                    n.right = sense\n",
        "                    sense.right = buf\n",
        "                    sense.left = subtrees_set[counter].right\n",
        "                else:\n",
        "                    while n.right:\n",
        "                        if (n.i, n.j) == (subtrees_set[counter].i, subtrees_set[counter].j):\n",
        "                            buf = n.right\n",
        "                            sense = SearchNode(n.i,n.j, is_sense=True)\n",
        "                            n.right = sense\n",
        "                            sense.right = buf\n",
        "                            try:\n",
        "                                sense.left = subtrees_set[counter].right\n",
        "                            except:\n",
        "                                sense.left = subtrees_set[counter]\n",
        "                            break\n",
        "                        else:\n",
        "                            n = n.right\n",
        "                counter+=1\n",
        "            u.remove(obstacle_coords)\n",
        "    return branches"
      ]
    },
    {
      "cell_type": "markdown",
      "metadata": {
        "id": "PWR3ZtNO9BZ8"
      },
      "source": [
        "## Визуализация и тесты\n",
        "\n",
        "Карту пока что задаём непосредственно в самой ячейке запуска, это позволяет упростить изучение различных сценариев."
      ]
    },
    {
      "cell_type": "code",
      "execution_count": 78,
      "metadata": {
        "id": "7EW3axl59BZ8"
      },
      "outputs": [],
      "source": [
        "def print_tree(node=None, prefix=\"\", children_prefix=\"\"):\n",
        "    if node is None:\n",
        "        print('no root passed')\n",
        "    node_repr = \"sense\" if node.is_sense else str((node.i, node.j))\n",
        "    print(prefix + node_repr)\n",
        "    if node.right:\n",
        "        print_tree(node.right, children_prefix + \"├── \", children_prefix + \"│   \")\n",
        "    if node.left:\n",
        "        print_tree(node.left, children_prefix + \"└── \", children_prefix + \"    \")"
      ]
    },
    {
      "cell_type": "code",
      "source": [
        "def extract_path(nodes, test_map:Map, posible_paths):\n",
        "  next_nodes = []\n",
        "  right_trav, left_trav = [], []\n",
        "  right_cont, left_cont = [], []\n",
        "  if all([not bool(node.right) for node in nodes]):\n",
        "    for i, node in enumerate(nodes):\n",
        "      if posible_paths[i][-1] != (node.i, node.j):\n",
        "        posible_paths[i].append((node.i, node.j))\n",
        "    return posible_paths\n",
        "  for i,node in enumerate(nodes):\n",
        "    if (not node.is_sense) or (not node.right and posible_paths[i][-1] != (node.i, node.j)):\n",
        "      posible_paths[i].append((node.i, node.j))\n",
        "    if node.right:\n",
        "     right_trav.append(test_map.traversable(node.right.i, node.right.j))\n",
        "    if node.left:\n",
        "     left_trav.append(test_map.traversable(node.left.i, node.left.j))\n",
        "  if all(right_trav):\n",
        "    extract_path([(node.right if node.right else node) for node in nodes ], test_map, posible_paths)\n",
        "    return posible_paths\n",
        "  if all(left_trav):\n",
        "     extract_path([(node.left if node.left else node)  for node in nodes], test_map, posible_paths)\n",
        "     return posible_paths\n"
      ],
      "metadata": {
        "id": "GQbjSEQ591_f"
      },
      "execution_count": 79,
      "outputs": []
    },
    {
      "cell_type": "code",
      "execution_count": 80,
      "metadata": {
        "scrolled": false,
        "colab": {
          "base_uri": "https://localhost:8080/"
        },
        "collapsed": true,
        "id": "6XtC82oh9BZ8",
        "outputId": "0bbe9be8-488a-4c73-ee7a-93b6c816ec24"
      },
      "outputs": [
        {
          "output_type": "stream",
          "name": "stdout",
          "text": [
            "Tree for agent 1:\n",
            "(4, 4)\n",
            "├── sense\n",
            "│   ├── (3, 4)\n",
            "│   │   ├── (3, 3)\n",
            "│   │   │   ├── (2, 3)\n",
            "│   │   │   │   ├── sense\n",
            "│   │   │   │   │   ├── (2, 2)\n",
            "│   │   │   │   │   │   ├── (1, 2)\n",
            "│   │   │   │   │   │   │   ├── (1, 1)\n",
            "│   │   │   │   │   └── (1, 3)\n",
            "│   │   │   │   │       ├── (0, 3)\n",
            "│   │   │   │   │       │   ├── (0, 2)\n",
            "│   │   │   │   │       │   │   ├── (0, 1)\n",
            "│   │   │   │   │       │   │   │   ├── (1, 1)\n",
            "│   └── (4, 3)\n",
            "│       ├── sense\n",
            "│       │   ├── (4, 2)\n",
            "│       │   │   ├── (4, 1)\n",
            "│       │   │   │   ├── (3, 1)\n",
            "│       │   │   │   │   ├── (3, 0)\n",
            "│       │   │   │   │   │   ├── (2, 0)\n",
            "│       │   │   │   │   │   │   ├── (1, 0)\n",
            "│       │   │   │   │   │   │   │   ├── (1, 1)\n",
            "│       │   └── (3, 3)\n",
            "│       │       ├── (3, 2)\n",
            "│       │       │   ├── (3, 1)\n",
            "│       │       │   │   ├── (3, 0)\n",
            "│       │       │   │   │   ├── (2, 0)\n",
            "│       │       │   │   │   │   ├── (1, 0)\n",
            "│       │       │   │   │   │   │   ├── (1, 1)\n",
            "\n",
            "Tree for agent 2:\n",
            "(1, 1)\n",
            "├── sense\n",
            "│   ├── (1, 2)\n",
            "│   │   ├── (1, 3)\n",
            "│   │   │   ├── (1, 4)\n",
            "│   │   │   │   ├── sense\n",
            "│   │   │   │   │   ├── (2, 4)\n",
            "│   │   │   │   │   │   ├── (3, 4)\n",
            "│   │   │   │   │   │   │   ├── (4, 4)\n",
            "│   │   │   │   │   └── (2, 4)\n",
            "│   │   │   │   │       ├── (3, 4)\n",
            "│   │   │   │   │       │   ├── (4, 4)\n",
            "│   └── (0, 1)\n",
            "│       ├── sense\n",
            "│       │   ├── (0, 2)\n",
            "│       │   │   ├── (0, 3)\n",
            "│       │   │   │   ├── (0, 4)\n",
            "│       │   │   │   │   ├── (1, 4)\n",
            "│       │   │   │   │   │   ├── (2, 4)\n",
            "│       │   │   │   │   │   │   ├── (3, 4)\n",
            "│       │   │   │   │   │   │   │   ├── (4, 4)\n",
            "│       │   └── (0, 2)\n",
            "│       │       ├── (0, 3)\n",
            "│       │       │   ├── (0, 4)\n",
            "│       │       │   │   ├── (1, 4)\n",
            "│       │       │   │   │   ├── (2, 4)\n",
            "│       │       │   │   │   │   ├── (3, 4)\n",
            "│       │       │   │   │   │   │   ├── (4, 4)\n",
            "\n"
          ]
        }
      ],
      "source": [
        "map_str ='''\n",
        ". . . . .\n",
        ". . P . .\n",
        ". # P . .\n",
        ". . . . .\n",
        ". . P . .\n",
        "\n",
        "'''\n",
        "\n",
        "cells = convert_string_to_cells(map_str)\n",
        "task_map = Map(cells)\n",
        "all_starts = read_lists_from_file(\"data/mapf_st_starts.txt\")\n",
        "all_goals = read_lists_from_file(\"data/mapf_st_goals.txt\")\n",
        "u = set([tuple(pos) for pos in np.argwhere(task_map._cells == 2)])\n",
        "c = set([tuple(pos) for pos in np.argwhere(task_map._cells == 1)])\n",
        "starts = all_starts[0]\n",
        "goals = all_goals[0]\n",
        "trees = CEBC(task_map, starts, goals, c, u)\n",
        "\n",
        "# Вывод структуры каждого дерева\n",
        "for i, tree in enumerate(trees):\n",
        "    print(f\"Tree for agent {i+1}:\")\n",
        "    print_tree(tree)\n",
        "    print()"
      ]
    },
    {
      "cell_type": "code",
      "source": [
        "# Вывод структуры каждого дерева\n",
        "paths = extract_path(trees, task_map, [[] for _ in trees])\n",
        "draw(task_map,task_map,starts,goals,paths)\n"
      ],
      "metadata": {
        "colab": {
          "base_uri": "https://localhost:8080/",
          "height": 171
        },
        "id": "p017vU5_36G7",
        "outputId": "bcea2ccb-3b68-462f-a924-eeecc0d4d411"
      },
      "execution_count": 81,
      "outputs": [
        {
          "output_type": "display_data",
          "data": {
            "image/png": "[encoded data removed]",
            "text/plain": [
              "<IPython.core.display.Image object>"
            ]
          },
          "metadata": {}
        }
      ]
    },
    {
      "cell_type": "code",
      "source": [
        "paths"
      ],
      "metadata": {
        "colab": {
          "base_uri": "https://localhost:8080/"
        },
        "id": "OYfpwul5N1u3",
        "outputId": "d1c36235-132e-40de-8b64-9e5d6e38e8be"
      },
      "execution_count": 82,
      "outputs": [
        {
          "output_type": "execute_result",
          "data": {
            "text/plain": [
              "[[(4, 4), (4, 3), (4, 2), (4, 1), (3, 1), (3, 0), (2, 0), (1, 0), (1, 1)],\n",
              " [(1, 1), (0, 1), (0, 2), (0, 3), (0, 4), (1, 4), (2, 4), (3, 4), (4, 4)]]"
            ]
          },
          "metadata": {},
          "execution_count": 82
        }
      ]
    },
    {
      "cell_type": "markdown",
      "source": [
        "# Тестирование"
      ],
      "metadata": {
        "id": "nPRmmZKZJlAJ"
      }
    },
    {
      "cell_type": "code",
      "source": [
        "import pickle\n",
        "with open(\"test_data.pkl\", \"rb\") as f:\n",
        "  test_data = pickle.load(f)"
      ],
      "metadata": {
        "id": "Vdn5cFbVJkDk",
        "ExecuteTime": {
          "end_time": "2024-05-23T21:20:54.579173400Z",
          "start_time": "2024-05-23T21:20:54.570324400Z"
        }
      },
      "execution_count": 83,
      "outputs": []
    },
    {
      "cell_type": "code",
      "source": [
        "from tqdm import tqdm\n",
        "full_pathes = []\n",
        "for sample in tqdm(test_data):\n",
        "  #try:\n",
        "    mask, test, starts, goals = sample\n",
        "    right_paths = test_data[sample]\n",
        "    mask_map = Map(convert_string_to_cells(mask))\n",
        "    test_map = Map(convert_string_to_cells(test))\n",
        "    u = set([tuple(pos) for pos in np.argwhere(mask_map._cells == 2)])\n",
        "    c = set([tuple(pos) for pos in np.argwhere(mask_map._cells == 1)])\n",
        "    trees = CEBC(mask_map, starts, goals, c, u)\n",
        "    full_pathes.append([reverse_pre_order_traversal_with_path(tree) for tree in trees])\n",
        "    paths =extract_path(trees, test_map, [[] for _ in trees])\n",
        "    right_len = max(map(len,right_paths))\n",
        "    max_len = max(map(len,paths))\n",
        "    if not check_paths(starts, goals, paths) :\n",
        "      print(f\"Путь для {sample} некорректный\")\n",
        "      print()\n",
        "      draw(test_map, mask_map,  starts, goals , paths)\n",
        "      # Вывод структуры каждого дерева\n",
        "      for i, tree in enumerate(trees):\n",
        "          print(f\"Tree for agent {i+1}:\")\n",
        "          print_tree(tree)\n",
        "      troubels.append(sample)\n",
        "  # except:\n",
        "  #     print(f\"Критическая ошибка в {sample}\")\n",
        "  #     troubels.append(sample)"
      ],
      "metadata": {
        "colab": {
          "base_uri": "https://localhost:8080/"
        },
        "id": "Gx-bjQdTKMga",
        "outputId": "76b26e70-ef0f-49cc-b08d-621aca03ab91",
        "ExecuteTime": {
          "end_time": "2024-05-23T21:21:59.654625200Z",
          "start_time": "2024-05-23T21:20:55.775783800Z"
        }
      },
      "execution_count": 86,
      "outputs": [
        {
          "output_type": "stream",
          "name": "stderr",
          "text": [
            "100%|██████████| 89/89 [01:55<00:00,  1.30s/it]\n"
          ]
        }
      ]
    }
  ],
  "metadata": {
    "colab": {
      "provenance": []
    },
    "kernelspec": {
      "display_name": "Python 3 (ipykernel)",
      "language": "python",
      "name": "python3"
    },
    "language_info": {
      "codemirror_mode": {
        "name": "ipython",
        "version": 3
      },
      "file_extension": ".py",
      "mimetype": "text/x-python",
      "name": "python",
      "nbconvert_exporter": "python",
      "pygments_lexer": "ipython3",
      "version": "3.10.13"
    }
  },
  "nbformat": 4,
  "nbformat_minor": 0
}