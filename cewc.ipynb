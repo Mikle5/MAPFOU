{
 "cells": [
  {
   "cell_type": "markdown",
   "metadata": {
    "id": "ZRytvUOv9BZ4"
   },
   "source": [
    "# Описание\n",
    "Это ноутбук к первой контрольной точке.\n",
    "В нем содержится код реализации алгоритма CEBC, описанного в статье. Работа с картой во многом наследована от наших лабораторных работ. Мы также использовали функцию prioritized_planning из лабораторной работы по многоагентному планированию, в качестве 'off-the-shelf CMAPF solver', описанного в оригинальной статье.  "
   ]
  },
  {
   "cell_type": "code",
   "execution_count": 1,
   "metadata": {
    "executionInfo": {
     "elapsed": 1069,
     "status": "ok",
     "timestamp": 1715753530210,
     "user": {
      "displayName": "Евгений Николаев",
      "userId": "07130589143617625465"
     },
     "user_tz": -180
    },
    "id": "NscWF0QKCYyp"
   },
   "outputs": [],
   "source": [
    "from utils import Map, prioritized_planning, shortest_first, draw,simple_test, convert_string_to_cells, read_lists_from_file, manhattan_distance, check_paths\n",
    "from collections import deque\n",
    "import numpy as np"
   ]
  },
  {
   "cell_type": "markdown",
   "metadata": {
    "id": "UTa9fcnJCYzM"
   },
   "source": [
    "### MAPFOU\n"
   ]
  },
  {
   "cell_type": "code",
   "execution_count": 49,
   "metadata": {
    "executionInfo": {
     "elapsed": 4,
     "status": "ok",
     "timestamp": 1715753531092,
     "user": {
      "displayName": "Евгений Николаев",
      "userId": "07130589143617625465"
     },
     "user_tz": -180
    },
    "id": "Qk9Wg7cJ9BZ7"
   },
   "outputs": [],
   "source": [
    "class SearchNode:\n",
    "    def __init__(self, i,j, is_possible_obstacle=False, is_sense=False):\n",
    "        self.i = i\n",
    "        self.j = j\n",
    "        self.left = None\n",
    "        self.right = None\n",
    "        self.is_sense = is_sense\n",
    "\n",
    "\n",
    "    def __repr__(self):\n",
    "        if self.is_sense:\n",
    "            return \"sense\"\n",
    "        else:\n",
    "            return f\"SearchNode({self.i, self.j})\"\n",
    "def create_branch(pairs):\n",
    "    if not pairs:\n",
    "        return None\n",
    "    root = SearchNode(pairs[0][0], pairs[0][1])\n",
    "    current = root\n",
    "    for i, j in pairs[1:]:\n",
    "        new_node = SearchNode(i, j)\n",
    "        current.right = new_node\n",
    "        current = current.right\n",
    "    return root\n",
    "def AssumeObs(task_map, c, u):\n",
    "    new_map=task_map\n",
    "    new_map._cells=np.zeros_like(task_map._cells)\n",
    "    for i in u:\n",
    "        new_map._cells[i[0]][i[1]] = 1\n",
    "    for i in c:\n",
    "        new_map._cells[i[0]][i[1]] = 1\n",
    "    return new_map\n",
    "def check_range(current_node, u):\n",
    "    # Извлекаем координаты текущей вершины\n",
    "    i, j = current_node.i, current_node.j\n",
    "    # Создаем список возможных смежных координат\n",
    "    adjacent_positions = [\n",
    "        (i - 1, j), (i + 1, j), (i, j - 1), (i, j + 1)\n",
    "    ]\n",
    "    # Находим пересечение множества смежных позиций и множества u\n",
    "    close_tuples = [pos for pos in adjacent_positions if pos in u]\n",
    "    return close_tuples\n"
   ]
  },
  {
   "cell_type": "markdown",
   "metadata": {
    "id": "gxIrt0LO9BZ7"
   },
   "source": [
    "## Псевдокод алгоритма\n",
    "<img src='data/cebc_pseudocode.png' width=540, heigth=240>"
   ]
  },
  {
   "cell_type": "code",
   "execution_count": 53,
   "metadata": {
    "executionInfo": {
     "elapsed": 3,
     "status": "ok",
     "timestamp": 1715753531092,
     "user": {
      "displayName": "Евгений Николаев",
      "userId": "07130589143617625465"
     },
     "user_tz": -180
    },
    "id": "Q03bqg8K9BZ7"
   },
   "outputs": [],
   "source": [
    "def CEWC(graph, s, t, c, u):\n",
    "    new_graph = AssumeObs(graph, c, u)\n",
    "    print(c)\n",
    "    print(graph._cells,'\\n', new_graph._cells)\n",
    "    plan = prioritized_planning(new_graph, s, t, 5000, manhattan_distance, shortest_first)[1]\n",
    "    branches = [create_branch(path) for path in plan]\n",
    "    queue = deque(branches)\n",
    "    new_starts = []\n",
    "    new_u = u.copy()\n",
    "    previous_level_coords = [(k.i, k.j) for k in branches]\n",
    "    while queue:\n",
    "        next_level = deque()\n",
    "        current_level_coords = []\n",
    "        obstacle_found = False\n",
    "\n",
    "\n",
    "        for node in queue:\n",
    "            if node is not None:\n",
    "                current_level_coords.append((node.i, node.j))\n",
    "                \n",
    "                # Проверка соседних узлов на наличие препятствий\n",
    "                neighbors = [(node.i + 1, node.j), (node.i - 1, node.j), (node.i, node.j + 1), (node.i, node.j - 1)]\n",
    "                for ni, nj in neighbors:\n",
    "                    if (ni, nj) in new_u:\n",
    "                        \n",
    "                        obstacle_found = True\n",
    "                        obstacle_coords = (ni, nj)\n",
    "                        new_u.remove(obstacle_coords)\n",
    "                        break\n",
    "                \n",
    "                if node.right:\n",
    "                    next_level.append(node.right)\n",
    "\n",
    "        if obstacle_found:\n",
    "            new_starts = previous_level_coords\n",
    "        previous_level_coords = current_level_coords\n",
    "        queue = next_level\n",
    "        if obstacle_found:\n",
    "            print(c)\n",
    "            subtrees_set = CEWC(graph, new_starts, t, c, new_u)\n",
    "            counter = 0\n",
    "            for n in branches:\n",
    "                if (n.i, n.j) == (subtrees_set[counter].i, subtrees_set[counter].j):\n",
    "                    buf = n.right\n",
    "                    sense = SearchNode(n.i, n.j, is_sense=True)\n",
    "                    n.right = sense\n",
    "                    sense.right = buf\n",
    "                    sense.left = subtrees_set[counter].right\n",
    "                else:\n",
    "                    while n.right:\n",
    "                        if (n.i, n.j) == (subtrees_set[counter].i, subtrees_set[counter].j):\n",
    "                            buf = n.right\n",
    "                            sense = SearchNode(n.i, n.j, is_sense=True)\n",
    "                            n.right = sense\n",
    "                            sense.right = buf\n",
    "                            try:\n",
    "                                sense.left = subtrees_set[counter].right\n",
    "                            except:\n",
    "                                sense.left = subtrees_set[counter]\n",
    "                            break\n",
    "                        else:\n",
    "                            n = n.right\n",
    "                counter += 1\n",
    "            u.remove(obstacle_coords)\n",
    "    return branches"
   ]
  },
  {
   "cell_type": "markdown",
   "metadata": {
    "id": "PWR3ZtNO9BZ8"
   },
   "source": [
    "## Визуализация и тесты\n",
    "\n",
    "Карту пока что задаём непосредственно в самой ячейке запуска, это позволяет упростить изучение различных сценариев."
   ]
  },
  {
   "cell_type": "code",
   "execution_count": 4,
   "metadata": {
    "executionInfo": {
     "elapsed": 3,
     "status": "ok",
     "timestamp": 1715753531092,
     "user": {
      "displayName": "Евгений Николаев",
      "userId": "07130589143617625465"
     },
     "user_tz": -180
    },
    "id": "7EW3axl59BZ8"
   },
   "outputs": [],
   "source": [
    "def print_tree(node=None, prefix=\"\", children_prefix=\"\"):\n",
    "    if node is None:\n",
    "        print('no root passed')\n",
    "    node_repr = \"sense\" if node.is_sense else str((node.i, node.j))\n",
    "    print(prefix + node_repr)\n",
    "    if node.right:\n",
    "        print_tree(node.right, children_prefix + \"├── \", children_prefix + \"│   \")\n",
    "    if node.left:\n",
    "        print_tree(node.left, children_prefix + \"└── \", children_prefix + \"    \")"
   ]
  },
  {
   "cell_type": "code",
   "execution_count": 5,
   "metadata": {
    "executionInfo": {
     "elapsed": 3,
     "status": "ok",
     "timestamp": 1715753531092,
     "user": {
      "displayName": "Евгений Николаев",
      "userId": "07130589143617625465"
     },
     "user_tz": -180
    },
    "id": "GQbjSEQ591_f"
   },
   "outputs": [],
   "source": [
    "def extract_path(node, test_map:Map, posible_path):\n",
    "  if not node.is_sense:\n",
    "    posible_path.append((node.i, node.j))\n",
    "  if node.right and test_map.traversable(node.right.i, node.right.j):\n",
    "      extract_path(node.right, test_map, posible_path)\n",
    "      return posible_path\n",
    "  if node.left and test_map.traversable(node.left.i, node.left.j):\n",
    "      extract_path(node.left, test_map, posible_path)\n",
    "      return posible_path\n"
   ]
  },
  {
   "cell_type": "code",
   "execution_count": 56,
   "metadata": {
    "colab": {
     "base_uri": "https://localhost:8080/"
    },
    "executionInfo": {
     "elapsed": 553,
     "status": "ok",
     "timestamp": 1715753674423,
     "user": {
      "displayName": "Евгений Николаев",
      "userId": "07130589143617625465"
     },
     "user_tz": -180
    },
    "id": "6XtC82oh9BZ8",
    "outputId": "aed3cec2-aece-45e3-f7c3-bafd82d07f42",
    "scrolled": false
   },
   "outputs": [
    {
     "name": "stdout",
     "output_type": "stream",
     "text": [
      "{(2, 1)}\n",
      "{(2, 1)}\n",
      "[[0 0 0 0 0]\n",
      " [0 0 1 0 0]\n",
      " [0 1 1 0 0]\n",
      " [0 0 0 0 0]\n",
      " [0 0 1 0 0]] \n",
      " [[0 0 0 0 0]\n",
      " [0 0 1 0 0]\n",
      " [0 1 1 0 0]\n",
      " [0 0 0 0 0]\n",
      " [0 0 1 0 0]]\n",
      "{(2, 1)}\n",
      "{(2, 1)}\n",
      "[[0 0 0 0 0]\n",
      " [0 0 0 0 0]\n",
      " [0 1 1 0 0]\n",
      " [0 0 0 0 0]\n",
      " [0 0 1 0 0]] \n",
      " [[0 0 0 0 0]\n",
      " [0 0 0 0 0]\n",
      " [0 1 1 0 0]\n",
      " [0 0 0 0 0]\n",
      " [0 0 1 0 0]]\n",
      "{(2, 1)}\n",
      "{(2, 1)}\n",
      "[[0 0 0 0 0]\n",
      " [0 0 0 0 0]\n",
      " [0 1 0 0 0]\n",
      " [0 0 0 0 0]\n",
      " [0 0 1 0 0]] \n",
      " [[0 0 0 0 0]\n",
      " [0 0 0 0 0]\n",
      " [0 1 0 0 0]\n",
      " [0 0 0 0 0]\n",
      " [0 0 1 0 0]]\n",
      "{(2, 1)}\n",
      "{(2, 1)}\n",
      "[[0 0 0 0 0]\n",
      " [0 0 0 0 0]\n",
      " [0 1 0 0 0]\n",
      " [0 0 0 0 0]\n",
      " [0 0 0 0 0]] \n",
      " [[0 0 0 0 0]\n",
      " [0 0 0 0 0]\n",
      " [0 1 0 0 0]\n",
      " [0 0 0 0 0]\n",
      " [0 0 0 0 0]]\n",
      "Tree for agent 1:\n",
      "(4, 4)\n",
      "├── sense\n",
      "│   ├── sense\n",
      "│   │   ├── (4, 3)\n",
      "│   │   │   ├── (3, 3)\n",
      "│   │   │   │   ├── (3, 2)\n",
      "│   │   │   │   │   ├── (3, 1)\n",
      "│   │   │   │   │   │   ├── (3, 0)\n",
      "│   │   │   │   │   │   │   ├── (2, 0)\n",
      "│   │   │   │   │   │   │   │   ├── (1, 0)\n",
      "│   │   │   │   │   │   │   │   │   ├── (1, 1)\n",
      "│   │   └── sense\n",
      "│   │       ├── (3, 4)\n",
      "│   │       │   ├── (2, 4)\n",
      "│   │       │   │   ├── (1, 4)\n",
      "│   │       │   │   │   ├── (1, 3)\n",
      "│   │       │   │   │   │   ├── (1, 2)\n",
      "│   │       │   │   │   │   │   ├── (1, 1)\n",
      "│   │       └── (3, 4)\n",
      "│   │           ├── (2, 4)\n",
      "│   │           │   ├── (2, 3)\n",
      "│   │           │   │   ├── (1, 3)\n",
      "│   │           │   │   │   ├── (1, 2)\n",
      "│   │           │   │   │   │   ├── (1, 1)\n",
      "│   └── (3, 4)\n",
      "│       ├── (3, 3)\n",
      "│       │   ├── (2, 3)\n",
      "│       │   │   ├── (2, 2)\n",
      "│       │   │   │   ├── (1, 2)\n",
      "│       │   │   │   │   ├── (1, 1)\n",
      "\n",
      "Tree for agent 2:\n",
      "(1, 1)\n",
      "├── sense\n",
      "│   ├── sense\n",
      "│   │   ├── (0, 1)\n",
      "│   │   │   ├── (0, 2)\n",
      "│   │   │   │   ├── (0, 3)\n",
      "│   │   │   │   │   ├── (0, 4)\n",
      "│   │   │   │   │   │   ├── (1, 4)\n",
      "│   │   │   │   │   │   │   ├── (2, 4)\n",
      "│   │   │   │   │   │   │   │   ├── (3, 4)\n",
      "│   │   │   │   │   │   │   │   │   ├── (4, 4)\n",
      "│   │   └── sense\n",
      "│   │       ├── (1, 2)\n",
      "│   │       │   ├── (1, 3)\n",
      "│   │       │   │   ├── (2, 3)\n",
      "│   │       │   │   │   ├── (2, 4)\n",
      "│   │       │   │   │   │   ├── (3, 4)\n",
      "│   │       │   │   │   │   │   ├── (4, 4)\n",
      "│   │       └── (1, 2)\n",
      "│   │           ├── (1, 3)\n",
      "│   │           │   ├── (1, 4)\n",
      "│   │           │   │   ├── (2, 4)\n",
      "│   │           │   │   │   ├── (3, 4)\n",
      "│   │           │   │   │   │   ├── (4, 4)\n",
      "│   └── (1, 2)\n",
      "│       ├── (1, 3)\n",
      "│       │   ├── (1, 4)\n",
      "│       │   │   ├── (2, 4)\n",
      "│       │   │   │   ├── (3, 4)\n",
      "│       │   │   │   │   ├── (4, 4)\n",
      "\n"
     ]
    }
   ],
   "source": [
    "map_str ='''\n",
    ". . . . .\n",
    ". . P . .\n",
    ". # P . .\n",
    ". . . . .\n",
    ". . P . .\n",
    "\n",
    "'''\n",
    "\n",
    "cells = convert_string_to_cells(map_str)\n",
    "task_map = Map(cells)\n",
    "all_starts = read_lists_from_file(\"data/mapf_st_starts.txt\")\n",
    "all_goals = read_lists_from_file(\"data/mapf_st_goals.txt\")\n",
    "u = set([tuple(pos) for pos in np.argwhere(task_map._cells == 2)])\n",
    "c = set([tuple(pos) for pos in np.argwhere(task_map._cells == 1)])\n",
    "starts = all_starts[0]\n",
    "goals = all_goals[0]\n",
    "print(c)\n",
    "trees = CEWC(task_map, starts, goals, c, u)\n",
    "\n",
    "# Вывод структуры каждого дерева\n",
    "for i, tree in enumerate(trees):\n",
    "    print(f\"Tree for agent {i+1}:\")\n",
    "    print_tree(tree)\n",
    "    print()"
   ]
  },
  {
   "cell_type": "code",
   "execution_count": 7,
   "metadata": {
    "colab": {
     "base_uri": "https://localhost:8080/",
     "height": 171
    },
    "executionInfo": {
     "elapsed": 868,
     "status": "ok",
     "timestamp": 1715753678109,
     "user": {
      "displayName": "Евгений Николаев",
      "userId": "07130589143617625465"
     },
     "user_tz": -180
    },
    "id": "p017vU5_36G7",
    "outputId": "d97ad6da-d573-448a-d21a-c26877afcd3d"
   },
   "outputs": [
    {
     "ename": "AttributeError",
     "evalue": "'Map' object has no attribute 'is_undefined_obstacle'",
     "output_type": "error",
     "traceback": [
      "\u001b[0;31m---------------------------------------------------------------------------\u001b[0m",
      "\u001b[0;31mAttributeError\u001b[0m                            Traceback (most recent call last)",
      "Cell \u001b[0;32mIn[7], line 3\u001b[0m\n\u001b[1;32m      1\u001b[0m \u001b[38;5;66;03m# Вывод структуры каждого дерева\u001b[39;00m\n\u001b[1;32m      2\u001b[0m paths \u001b[38;5;241m=\u001b[39m [extract_path(tree, task_map, []) \u001b[38;5;28;01mfor\u001b[39;00m tree \u001b[38;5;129;01min\u001b[39;00m trees]\n\u001b[0;32m----> 3\u001b[0m \u001b[43mdraw\u001b[49m\u001b[43m(\u001b[49m\u001b[43mtask_map\u001b[49m\u001b[43m,\u001b[49m\u001b[43mtask_map\u001b[49m\u001b[43m,\u001b[49m\u001b[43mstarts\u001b[49m\u001b[43m,\u001b[49m\u001b[43mgoals\u001b[49m\u001b[43m,\u001b[49m\u001b[43mpaths\u001b[49m\u001b[43m)\u001b[49m\n",
      "File \u001b[0;32m~/code/MAPFOU/utils.py:927\u001b[0m, in \u001b[0;36mdraw\u001b[0;34m(grid_map, map_mask, starts, goals, paths, output_filename)\u001b[0m\n\u001b[1;32m    925\u001b[0m im \u001b[38;5;241m=\u001b[39m Image\u001b[38;5;241m.\u001b[39mnew(\u001b[38;5;124m'\u001b[39m\u001b[38;5;124mRGB\u001b[39m\u001b[38;5;124m'\u001b[39m, (w_im, h_im), color \u001b[38;5;241m=\u001b[39m (\u001b[38;5;241m234\u001b[39m, \u001b[38;5;241m237\u001b[39m, \u001b[38;5;241m237\u001b[39m))\n\u001b[1;32m    926\u001b[0m draw \u001b[38;5;241m=\u001b[39m ImageDraw\u001b[38;5;241m.\u001b[39mDraw(im)\n\u001b[0;32m--> 927\u001b[0m \u001b[43mdraw_grid\u001b[49m\u001b[43m(\u001b[49m\u001b[43mdraw\u001b[49m\u001b[43m,\u001b[49m\u001b[43m \u001b[49m\u001b[43mgrid_map\u001b[49m\u001b[43m,\u001b[49m\u001b[43mmap_mask\u001b[49m\u001b[43m,\u001b[49m\u001b[43m \u001b[49m\u001b[43mscale\u001b[49m\u001b[43m)\u001b[49m\n\u001b[1;32m    929\u001b[0m \u001b[38;5;28;01mif\u001b[39;00m starts \u001b[38;5;129;01mis\u001b[39;00m \u001b[38;5;129;01mnot\u001b[39;00m \u001b[38;5;28;01mNone\u001b[39;00m \u001b[38;5;129;01mand\u001b[39;00m goals \u001b[38;5;129;01mis\u001b[39;00m \u001b[38;5;129;01mnot\u001b[39;00m \u001b[38;5;28;01mNone\u001b[39;00m:\n\u001b[1;32m    930\u001b[0m     \u001b[38;5;28;01mfor\u001b[39;00m a_id \u001b[38;5;129;01min\u001b[39;00m \u001b[38;5;28mrange\u001b[39m(\u001b[38;5;28mlen\u001b[39m(starts)):\n",
      "File \u001b[0;32m~/code/MAPFOU/utils.py:721\u001b[0m, in \u001b[0;36mdraw_grid\u001b[0;34m(draw_obj, grid_map, map_mask, scale)\u001b[0m\n\u001b[1;32m    716\u001b[0m \u001b[38;5;28;01mfor\u001b[39;00m j \u001b[38;5;129;01min\u001b[39;00m \u001b[38;5;28mrange\u001b[39m(width):\n\u001b[1;32m    717\u001b[0m     \u001b[38;5;66;03m# if grid_map.is_undefined_obstacle(i, j) and grid_map.traversable(i, j):\u001b[39;00m\n\u001b[1;32m    718\u001b[0m     \u001b[38;5;66;03m#   draw_obj.rectangle((j * scale, i * scale, (j + 1) * scale - 1, \\\u001b[39;00m\n\u001b[1;32m    719\u001b[0m     \u001b[38;5;66;03m#                     (i + 1) * scale - 1), fill=(234, 237, 237), outline =\"red\", width=1)\u001b[39;00m\n\u001b[1;32m    720\u001b[0m     \u001b[38;5;28;01mif\u001b[39;00m \u001b[38;5;129;01mnot\u001b[39;00m map_mask\u001b[38;5;241m.\u001b[39mtraversable(i, j):\n\u001b[0;32m--> 721\u001b[0m         outline_width \u001b[38;5;241m=\u001b[39m \u001b[38;5;28mint\u001b[39m(\u001b[43mmap_mask\u001b[49m\u001b[38;5;241;43m.\u001b[39;49m\u001b[43mis_undefined_obstacle\u001b[49m(i, j))\n\u001b[1;32m    722\u001b[0m         color \u001b[38;5;241m=\u001b[39m (\u001b[38;5;241m234\u001b[39m, \u001b[38;5;241m237\u001b[39m, \u001b[38;5;241m237\u001b[39m) \u001b[38;5;28;01mif\u001b[39;00m grid_map\u001b[38;5;241m.\u001b[39mtraversable(i, j) \u001b[38;5;28;01melse\u001b[39;00m (\u001b[38;5;241m70\u001b[39m, \u001b[38;5;241m80\u001b[39m, \u001b[38;5;241m80\u001b[39m)\n\u001b[1;32m    723\u001b[0m         draw_obj\u001b[38;5;241m.\u001b[39mrectangle((j \u001b[38;5;241m*\u001b[39m scale, i \u001b[38;5;241m*\u001b[39m scale, (j \u001b[38;5;241m+\u001b[39m \u001b[38;5;241m1\u001b[39m) \u001b[38;5;241m*\u001b[39m scale \u001b[38;5;241m-\u001b[39m \u001b[38;5;241m1\u001b[39m, \\\n\u001b[1;32m    724\u001b[0m                         (i \u001b[38;5;241m+\u001b[39m \u001b[38;5;241m1\u001b[39m) \u001b[38;5;241m*\u001b[39m scale \u001b[38;5;241m-\u001b[39m \u001b[38;5;241m1\u001b[39m), fill\u001b[38;5;241m=\u001b[39mcolor,\n\u001b[1;32m    725\u001b[0m                           outline \u001b[38;5;241m=\u001b[39m\u001b[38;5;124m\"\u001b[39m\u001b[38;5;124mred\u001b[39m\u001b[38;5;124m\"\u001b[39m, width\u001b[38;5;241m=\u001b[39moutline_width)\n",
      "\u001b[0;31mAttributeError\u001b[0m: 'Map' object has no attribute 'is_undefined_obstacle'"
     ]
    }
   ],
   "source": [
    "# Вывод структуры каждого дерева\n",
    "paths = [extract_path(tree, task_map, []) for tree in trees]\n",
    "draw(task_map,task_map,starts,goals,paths)\n"
   ]
  },
  {
   "cell_type": "markdown",
   "metadata": {
    "id": "nPRmmZKZJlAJ"
   },
   "source": [
    "# Тестирование"
   ]
  },
  {
   "cell_type": "code",
   "execution_count": null,
   "metadata": {
    "executionInfo": {
     "elapsed": 5,
     "status": "ok",
     "timestamp": 1715748275268,
     "user": {
      "displayName": "Евгений Николаев",
      "userId": "07130589143617625465"
     },
     "user_tz": -180
    },
    "id": "Vdn5cFbVJkDk"
   },
   "outputs": [],
   "source": [
    "import pickle\n",
    "with open(\"test_data.pkl\", \"rb\") as f:\n",
    "  test_data = pickle.load(f)"
   ]
  },
  {
   "cell_type": "code",
   "execution_count": null,
   "metadata": {
    "colab": {
     "base_uri": "https://localhost:8080/"
    },
    "executionInfo": {
     "elapsed": 106572,
     "status": "ok",
     "timestamp": 1715748383565,
     "user": {
      "displayName": "Евгений Николаев",
      "userId": "07130589143617625465"
     },
     "user_tz": -180
    },
    "id": "Gx-bjQdTKMga",
    "outputId": "3081ffe7-7271-4a22-b5d6-e7127c0f2012"
   },
   "outputs": [],
   "source": [
    "from tqdm import tqdm\n",
    "troubels = []\n",
    "for sample in tqdm(test_data):\n",
    "  try:\n",
    "    mask, test, starts, goals = sample\n",
    "    right_paths = test_data[sample]\n",
    "    mask_map = Map(convert_string_to_cells(mask))\n",
    "    test_map = Map(convert_string_to_cells(test))\n",
    "    u = set([tuple(pos) for pos in np.argwhere(mask_map._cells == 2)])\n",
    "    c = set([tuple(pos) for pos in np.argwhere(mask_map._cells == 1)])\n",
    "    trees = CEBC(mask_map, starts, goals, set([]), u)\n",
    "    paths = []\n",
    "    for tree in trees:\n",
    "      paths.append(extract_path(tree, test_map, []))\n",
    "    right_len = max(map(len,right_paths))\n",
    "    max_len = max(map(len,paths))\n",
    "    if not check_paths(starts, goals, paths) :\n",
    "      print(f\"Путь для {sample} некорректный\")\n",
    "      troubels.append(sample)\n",
    "      continue\n",
    "    if right_len < max_len:\n",
    "      troubels.append(sample)\n",
    "      print(f\"Путь для {sample} длинее на {max_len - right_len}\")\n",
    "  except:\n",
    "      print(f\"Критическая ошибка в {sample}\")\n",
    "      troubels.append(sample)"
   ]
  }
 ],
 "metadata": {
  "colab": {
   "provenance": []
  },
  "kernelspec": {
   "display_name": "Python 3 (ipykernel)",
   "language": "python",
   "name": "python3"
  },
  "language_info": {
   "codemirror_mode": {
    "name": "ipython",
    "version": 3
   },
   "file_extension": ".py",
   "mimetype": "text/x-python",
   "name": "python",
   "nbconvert_exporter": "python",
   "pygments_lexer": "ipython3",
   "version": "3.10.13"
  }
 },
 "nbformat": 4,
 "nbformat_minor": 1
}
